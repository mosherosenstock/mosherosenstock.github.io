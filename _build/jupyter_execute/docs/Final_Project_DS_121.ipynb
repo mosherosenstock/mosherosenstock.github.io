{
 "cells": [
  {
   "attachments": {},
   "cell_type": "markdown",
   "id": "54850302",
   "metadata": {
    "id": "54850302"
   },
   "source": [
    "<div style=\"text-align: right\">B\"H</div>\n",
    "\n",
    "# Predicting Alcohol level in Wines\n",
    "\n",
    "> ### *Moshe Rosenstock*\n",
    "\n"
   ]
  },
  {
   "cell_type": "markdown",
   "id": "2e07277e",
   "metadata": {
    "id": "2e07277e"
   },
   "source": [
    "## 1) Introduction:\n"
   ]
  },
  {
   "cell_type": "markdown",
   "id": "_7nEUnbBCsSn",
   "metadata": {
    "id": "_7nEUnbBCsSn"
   },
   "source": [
    "- In this study, I used several machine learning algorithms to predict the level of alcohol in wines, based on its other attributes. I was interested in this problem because I wanted to know if it is possible to predict the alcohol level in a wine without actually measuring it, but rather by using the other factors that may influence its alcohol content. I divided the dataset into training and testing sets, and used kmeans clustering, hierarchical clustering, regression trees, and the Random Forest algorithm to make predictions on the test set.\n",
    "\n",
    "- After calculating the different results of each of the algorithms, I will evaluated the performance  using mean absolute error and R^2. I will then compare the results of these metrics for each algorithm to determine which one was the best at predicting the alcohol level in wines.\n"
   ]
  },
  {
   "cell_type": "code",
   "execution_count": 1,
   "id": "a181ec3a",
   "metadata": {
    "id": "a181ec3a"
   },
   "outputs": [],
   "source": [
    "# Import Modules\n",
    "import numpy as np\n",
    "import pandas as pd\n",
    "import matplotlib.pyplot as plt\n",
    "import seaborn as sns\n",
    "from sklearn.metrics import mean_squared_error\n",
    "from sklearn.tree import DecisionTreeRegressor\n",
    "from sklearn.metrics import silhouette_score\n",
    "from sklearn.cluster import KMeans\n",
    "from sklearn.cluster import AgglomerativeClustering\n",
    "import math\n",
    "from sklearn.model_selection import train_test_split\n",
    "from sklearn.datasets import make_blobs\n",
    "from sklearn.cluster import KMeans\n",
    "from sklearn.metrics import silhouette_score\n",
    "from sklearn.preprocessing import StandardScaler\n",
    "from sklearn.preprocessing import LabelEncoder\n",
    "from sklearn.linear_model import LinearRegression\n",
    "from sklearn import metrics\n",
    "from mpl_toolkits.mplot3d import Axes3D\n",
    "import plotly.graph_objs as go\n",
    "from sklearn.ensemble import RandomForestRegressor\n",
    "from sklearn.metrics import r2_score\n",
    "from plotly import tools\n",
    "from plotly.subplots import make_subplots\n",
    "from sklearn.metrics import mean_absolute_error\n",
    "import plotly.offline as py\n",
    "from sklearn.preprocessing import MinMaxScaler"
   ]
  },
  {
   "attachments": {},
   "cell_type": "markdown",
   "id": "81a583a9",
   "metadata": {
    "id": "81a583a9"
   },
   "source": [
    "## 2) Data:\n",
    "- The dataset I utilized is based on a chemical analysis of wines grown in Italy. The study determined the amount of more than ten constituents found in each of the different types of wines.\n",
    "\n",
    "- It was interesting to analyze this data as we could figure out a nice partitioning/classification of the level of alcohol in a wine using the other constituents found in the wine. The columns of this dataset are composed by the different components of wines, these includes Alcohol, Malic Acid, Ash, Ash_Alcanity, Magnesium, Total_Phenols, among others. On the other hand, each of the 178 rows represents a different wine, which all come from Italy's same region.\n",
    "\n",
    "- These features give us a lot of space to make exciting classifications. One example to understand how our dataset works: it can show which component has the most significant correlation with the percentage of alcohol the wine has. \n",
    "\n",
    "- This work is essential because it can help winemakers to understand the factors that affect the alcohol level in their wines and to make more accurate predictions about the alcohol content of their wines. By using machine learning algorithms, winemakers can better understand the relationships between the attributes and can make more informed decisions about how to produce with the desired alcohol level. By predicting the alcohol level in a wine based on its other features, we can improve the accuracy and efficiency of the wine production process and ultimately produce better wines. Additionally, this work has broader implications for the wine industry, as it can help winemakers optimize their production processes and create high-quality wines tailored to their customer's preferences.\n",
    "> This dataset was imported from Machine Learning Repository   \n",
    "> https://archive.ics.uci.edu/ml/datasets/wine \n"
   ]
  },
  {
   "cell_type": "code",
   "execution_count": 2,
   "id": "bldbDZp14wng",
   "metadata": {
    "id": "bldbDZp14wng"
   },
   "outputs": [],
   "source": [
    "# Import Data\n",
    "df = pd.read_csv(\"wine-clustering.csv\")\n",
    "\n"
   ]
  },
  {
   "cell_type": "code",
   "execution_count": 3,
   "id": "6GpsSo9846-6",
   "metadata": {
    "colab": {
     "base_uri": "https://localhost:8080/",
     "height": 270
    },
    "id": "6GpsSo9846-6",
    "outputId": "f7cd50e9-a451-4d84-b8c6-01911e0d691d"
   },
   "outputs": [
    {
     "data": {
      "text/html": [
       "<div>\n",
       "<style scoped>\n",
       "    .dataframe tbody tr th:only-of-type {\n",
       "        vertical-align: middle;\n",
       "    }\n",
       "\n",
       "    .dataframe tbody tr th {\n",
       "        vertical-align: top;\n",
       "    }\n",
       "\n",
       "    .dataframe thead th {\n",
       "        text-align: right;\n",
       "    }\n",
       "</style>\n",
       "<table border=\"1\" class=\"dataframe\">\n",
       "  <thead>\n",
       "    <tr style=\"text-align: right;\">\n",
       "      <th></th>\n",
       "      <th>Alcohol</th>\n",
       "      <th>Malic_Acid</th>\n",
       "      <th>Ash</th>\n",
       "      <th>Ash_Alcanity</th>\n",
       "      <th>Magnesium</th>\n",
       "      <th>Total_Phenols</th>\n",
       "      <th>Flavanoids</th>\n",
       "      <th>Nonflavanoid_Phenols</th>\n",
       "      <th>Proanthocyanins</th>\n",
       "      <th>Color_Intensity</th>\n",
       "      <th>Hue</th>\n",
       "      <th>OD280</th>\n",
       "      <th>Proline</th>\n",
       "    </tr>\n",
       "  </thead>\n",
       "  <tbody>\n",
       "    <tr>\n",
       "      <th>0</th>\n",
       "      <td>14.23</td>\n",
       "      <td>1.71</td>\n",
       "      <td>2.43</td>\n",
       "      <td>15.6</td>\n",
       "      <td>127</td>\n",
       "      <td>2.80</td>\n",
       "      <td>3.06</td>\n",
       "      <td>0.28</td>\n",
       "      <td>2.29</td>\n",
       "      <td>5.64</td>\n",
       "      <td>1.04</td>\n",
       "      <td>3.92</td>\n",
       "      <td>1065</td>\n",
       "    </tr>\n",
       "    <tr>\n",
       "      <th>1</th>\n",
       "      <td>13.20</td>\n",
       "      <td>1.78</td>\n",
       "      <td>2.14</td>\n",
       "      <td>11.2</td>\n",
       "      <td>100</td>\n",
       "      <td>2.65</td>\n",
       "      <td>2.76</td>\n",
       "      <td>0.26</td>\n",
       "      <td>1.28</td>\n",
       "      <td>4.38</td>\n",
       "      <td>1.05</td>\n",
       "      <td>3.40</td>\n",
       "      <td>1050</td>\n",
       "    </tr>\n",
       "    <tr>\n",
       "      <th>2</th>\n",
       "      <td>13.16</td>\n",
       "      <td>2.36</td>\n",
       "      <td>2.67</td>\n",
       "      <td>18.6</td>\n",
       "      <td>101</td>\n",
       "      <td>2.80</td>\n",
       "      <td>3.24</td>\n",
       "      <td>0.30</td>\n",
       "      <td>2.81</td>\n",
       "      <td>5.68</td>\n",
       "      <td>1.03</td>\n",
       "      <td>3.17</td>\n",
       "      <td>1185</td>\n",
       "    </tr>\n",
       "    <tr>\n",
       "      <th>3</th>\n",
       "      <td>14.37</td>\n",
       "      <td>1.95</td>\n",
       "      <td>2.50</td>\n",
       "      <td>16.8</td>\n",
       "      <td>113</td>\n",
       "      <td>3.85</td>\n",
       "      <td>3.49</td>\n",
       "      <td>0.24</td>\n",
       "      <td>2.18</td>\n",
       "      <td>7.80</td>\n",
       "      <td>0.86</td>\n",
       "      <td>3.45</td>\n",
       "      <td>1480</td>\n",
       "    </tr>\n",
       "    <tr>\n",
       "      <th>4</th>\n",
       "      <td>13.24</td>\n",
       "      <td>2.59</td>\n",
       "      <td>2.87</td>\n",
       "      <td>21.0</td>\n",
       "      <td>118</td>\n",
       "      <td>2.80</td>\n",
       "      <td>2.69</td>\n",
       "      <td>0.39</td>\n",
       "      <td>1.82</td>\n",
       "      <td>4.32</td>\n",
       "      <td>1.04</td>\n",
       "      <td>2.93</td>\n",
       "      <td>735</td>\n",
       "    </tr>\n",
       "  </tbody>\n",
       "</table>\n",
       "</div>"
      ],
      "text/plain": [
       "   Alcohol  Malic_Acid   Ash  Ash_Alcanity  Magnesium  Total_Phenols  \\\n",
       "0    14.23        1.71  2.43          15.6        127           2.80   \n",
       "1    13.20        1.78  2.14          11.2        100           2.65   \n",
       "2    13.16        2.36  2.67          18.6        101           2.80   \n",
       "3    14.37        1.95  2.50          16.8        113           3.85   \n",
       "4    13.24        2.59  2.87          21.0        118           2.80   \n",
       "\n",
       "   Flavanoids  Nonflavanoid_Phenols  Proanthocyanins  Color_Intensity   Hue  \\\n",
       "0        3.06                  0.28             2.29             5.64  1.04   \n",
       "1        2.76                  0.26             1.28             4.38  1.05   \n",
       "2        3.24                  0.30             2.81             5.68  1.03   \n",
       "3        3.49                  0.24             2.18             7.80  0.86   \n",
       "4        2.69                  0.39             1.82             4.32  1.04   \n",
       "\n",
       "   OD280  Proline  \n",
       "0   3.92     1065  \n",
       "1   3.40     1050  \n",
       "2   3.17     1185  \n",
       "3   3.45     1480  \n",
       "4   2.93      735  "
      ]
     },
     "execution_count": 3,
     "metadata": {},
     "output_type": "execute_result"
    }
   ],
   "source": [
    "df.head()"
   ]
  },
  {
   "cell_type": "code",
   "execution_count": 4,
   "id": "aeaa858f",
   "metadata": {
    "colab": {
     "base_uri": "https://localhost:8080/",
     "height": 270
    },
    "id": "aeaa858f",
    "outputId": "665db685-0570-4310-e104-635736a0cdc3"
   },
   "outputs": [
    {
     "data": {
      "text/html": [
       "<div>\n",
       "<style scoped>\n",
       "    .dataframe tbody tr th:only-of-type {\n",
       "        vertical-align: middle;\n",
       "    }\n",
       "\n",
       "    .dataframe tbody tr th {\n",
       "        vertical-align: top;\n",
       "    }\n",
       "\n",
       "    .dataframe thead th {\n",
       "        text-align: right;\n",
       "    }\n",
       "</style>\n",
       "<table border=\"1\" class=\"dataframe\">\n",
       "  <thead>\n",
       "    <tr style=\"text-align: right;\">\n",
       "      <th></th>\n",
       "      <th>Alcohol</th>\n",
       "      <th>Malic_Acid</th>\n",
       "      <th>Ash</th>\n",
       "      <th>Ash_Alcanity</th>\n",
       "      <th>Magnesium</th>\n",
       "      <th>Total_Phenols</th>\n",
       "      <th>Flavanoids</th>\n",
       "      <th>Nonflavanoid_Phenols</th>\n",
       "      <th>Proanthocyanins</th>\n",
       "      <th>Color_Intensity</th>\n",
       "      <th>Hue</th>\n",
       "      <th>OD280</th>\n",
       "      <th>Proline</th>\n",
       "    </tr>\n",
       "  </thead>\n",
       "  <tbody>\n",
       "    <tr>\n",
       "      <th>0</th>\n",
       "      <td>0.842105</td>\n",
       "      <td>0.191700</td>\n",
       "      <td>0.572193</td>\n",
       "      <td>0.257732</td>\n",
       "      <td>0.619565</td>\n",
       "      <td>0.627586</td>\n",
       "      <td>0.573840</td>\n",
       "      <td>0.283019</td>\n",
       "      <td>0.593060</td>\n",
       "      <td>0.372014</td>\n",
       "      <td>0.455285</td>\n",
       "      <td>0.970696</td>\n",
       "      <td>0.561341</td>\n",
       "    </tr>\n",
       "    <tr>\n",
       "      <th>1</th>\n",
       "      <td>0.571053</td>\n",
       "      <td>0.205534</td>\n",
       "      <td>0.417112</td>\n",
       "      <td>0.030928</td>\n",
       "      <td>0.326087</td>\n",
       "      <td>0.575862</td>\n",
       "      <td>0.510549</td>\n",
       "      <td>0.245283</td>\n",
       "      <td>0.274448</td>\n",
       "      <td>0.264505</td>\n",
       "      <td>0.463415</td>\n",
       "      <td>0.780220</td>\n",
       "      <td>0.550642</td>\n",
       "    </tr>\n",
       "    <tr>\n",
       "      <th>2</th>\n",
       "      <td>0.560526</td>\n",
       "      <td>0.320158</td>\n",
       "      <td>0.700535</td>\n",
       "      <td>0.412371</td>\n",
       "      <td>0.336957</td>\n",
       "      <td>0.627586</td>\n",
       "      <td>0.611814</td>\n",
       "      <td>0.320755</td>\n",
       "      <td>0.757098</td>\n",
       "      <td>0.375427</td>\n",
       "      <td>0.447154</td>\n",
       "      <td>0.695971</td>\n",
       "      <td>0.646933</td>\n",
       "    </tr>\n",
       "    <tr>\n",
       "      <th>3</th>\n",
       "      <td>0.878947</td>\n",
       "      <td>0.239130</td>\n",
       "      <td>0.609626</td>\n",
       "      <td>0.319588</td>\n",
       "      <td>0.467391</td>\n",
       "      <td>0.989655</td>\n",
       "      <td>0.664557</td>\n",
       "      <td>0.207547</td>\n",
       "      <td>0.558360</td>\n",
       "      <td>0.556314</td>\n",
       "      <td>0.308943</td>\n",
       "      <td>0.798535</td>\n",
       "      <td>0.857347</td>\n",
       "    </tr>\n",
       "    <tr>\n",
       "      <th>4</th>\n",
       "      <td>0.581579</td>\n",
       "      <td>0.365613</td>\n",
       "      <td>0.807487</td>\n",
       "      <td>0.536082</td>\n",
       "      <td>0.521739</td>\n",
       "      <td>0.627586</td>\n",
       "      <td>0.495781</td>\n",
       "      <td>0.490566</td>\n",
       "      <td>0.444795</td>\n",
       "      <td>0.259386</td>\n",
       "      <td>0.455285</td>\n",
       "      <td>0.608059</td>\n",
       "      <td>0.325963</td>\n",
       "    </tr>\n",
       "  </tbody>\n",
       "</table>\n",
       "</div>"
      ],
      "text/plain": [
       "    Alcohol  Malic_Acid       Ash  Ash_Alcanity  Magnesium  Total_Phenols  \\\n",
       "0  0.842105    0.191700  0.572193      0.257732   0.619565       0.627586   \n",
       "1  0.571053    0.205534  0.417112      0.030928   0.326087       0.575862   \n",
       "2  0.560526    0.320158  0.700535      0.412371   0.336957       0.627586   \n",
       "3  0.878947    0.239130  0.609626      0.319588   0.467391       0.989655   \n",
       "4  0.581579    0.365613  0.807487      0.536082   0.521739       0.627586   \n",
       "\n",
       "   Flavanoids  Nonflavanoid_Phenols  Proanthocyanins  Color_Intensity  \\\n",
       "0    0.573840              0.283019         0.593060         0.372014   \n",
       "1    0.510549              0.245283         0.274448         0.264505   \n",
       "2    0.611814              0.320755         0.757098         0.375427   \n",
       "3    0.664557              0.207547         0.558360         0.556314   \n",
       "4    0.495781              0.490566         0.444795         0.259386   \n",
       "\n",
       "        Hue     OD280   Proline  \n",
       "0  0.455285  0.970696  0.561341  \n",
       "1  0.463415  0.780220  0.550642  \n",
       "2  0.447154  0.695971  0.646933  \n",
       "3  0.308943  0.798535  0.857347  \n",
       "4  0.455285  0.608059  0.325963  "
      ]
     },
     "execution_count": 4,
     "metadata": {},
     "output_type": "execute_result"
    }
   ],
   "source": [
    "# Scale all the columns to be between 0-1\n",
    "scaler = MinMaxScaler()\n",
    "df = pd.DataFrame(scaler.fit_transform(df), columns=df.columns)\n",
    "df.head()"
   ]
  },
  {
   "cell_type": "code",
   "execution_count": 5,
   "id": "19057a0e",
   "metadata": {
    "colab": {
     "base_uri": "https://localhost:8080/",
     "height": 521
    },
    "id": "19057a0e",
    "outputId": "0fa1167a-8b08-4ab1-842c-0439f4d373f3"
   },
   "outputs": [
    {
     "data": {
      "text/html": [
       "<div>\n",
       "<style scoped>\n",
       "    .dataframe tbody tr th:only-of-type {\n",
       "        vertical-align: middle;\n",
       "    }\n",
       "\n",
       "    .dataframe tbody tr th {\n",
       "        vertical-align: top;\n",
       "    }\n",
       "\n",
       "    .dataframe thead th {\n",
       "        text-align: right;\n",
       "    }\n",
       "</style>\n",
       "<table border=\"1\" class=\"dataframe\">\n",
       "  <thead>\n",
       "    <tr style=\"text-align: right;\">\n",
       "      <th></th>\n",
       "      <th>Alcohol</th>\n",
       "      <th>Malic_Acid</th>\n",
       "      <th>Ash</th>\n",
       "      <th>Ash_Alcanity</th>\n",
       "      <th>Magnesium</th>\n",
       "      <th>Total_Phenols</th>\n",
       "      <th>Flavanoids</th>\n",
       "      <th>Nonflavanoid_Phenols</th>\n",
       "      <th>Proanthocyanins</th>\n",
       "      <th>Color_Intensity</th>\n",
       "      <th>Hue</th>\n",
       "      <th>OD280</th>\n",
       "      <th>Proline</th>\n",
       "    </tr>\n",
       "  </thead>\n",
       "  <tbody>\n",
       "    <tr>\n",
       "      <th>Alcohol</th>\n",
       "      <td>1.000000</td>\n",
       "      <td>0.094397</td>\n",
       "      <td>0.211545</td>\n",
       "      <td>-0.310235</td>\n",
       "      <td>0.270798</td>\n",
       "      <td>0.289101</td>\n",
       "      <td>0.236815</td>\n",
       "      <td>-0.155929</td>\n",
       "      <td>0.136698</td>\n",
       "      <td>0.546364</td>\n",
       "      <td>-0.071747</td>\n",
       "      <td>0.072343</td>\n",
       "      <td>0.643720</td>\n",
       "    </tr>\n",
       "    <tr>\n",
       "      <th>Malic_Acid</th>\n",
       "      <td>0.094397</td>\n",
       "      <td>1.000000</td>\n",
       "      <td>0.164045</td>\n",
       "      <td>0.288500</td>\n",
       "      <td>-0.054575</td>\n",
       "      <td>-0.335167</td>\n",
       "      <td>-0.411007</td>\n",
       "      <td>0.292977</td>\n",
       "      <td>-0.220746</td>\n",
       "      <td>0.248985</td>\n",
       "      <td>-0.561296</td>\n",
       "      <td>-0.368710</td>\n",
       "      <td>-0.192011</td>\n",
       "    </tr>\n",
       "    <tr>\n",
       "      <th>Ash</th>\n",
       "      <td>0.211545</td>\n",
       "      <td>0.164045</td>\n",
       "      <td>1.000000</td>\n",
       "      <td>0.443367</td>\n",
       "      <td>0.286587</td>\n",
       "      <td>0.128980</td>\n",
       "      <td>0.115077</td>\n",
       "      <td>0.186230</td>\n",
       "      <td>0.009652</td>\n",
       "      <td>0.258887</td>\n",
       "      <td>-0.074667</td>\n",
       "      <td>0.003911</td>\n",
       "      <td>0.223626</td>\n",
       "    </tr>\n",
       "    <tr>\n",
       "      <th>Ash_Alcanity</th>\n",
       "      <td>-0.310235</td>\n",
       "      <td>0.288500</td>\n",
       "      <td>0.443367</td>\n",
       "      <td>1.000000</td>\n",
       "      <td>-0.083333</td>\n",
       "      <td>-0.321113</td>\n",
       "      <td>-0.351370</td>\n",
       "      <td>0.361922</td>\n",
       "      <td>-0.197327</td>\n",
       "      <td>0.018732</td>\n",
       "      <td>-0.273955</td>\n",
       "      <td>-0.276769</td>\n",
       "      <td>-0.440597</td>\n",
       "    </tr>\n",
       "    <tr>\n",
       "      <th>Magnesium</th>\n",
       "      <td>0.270798</td>\n",
       "      <td>-0.054575</td>\n",
       "      <td>0.286587</td>\n",
       "      <td>-0.083333</td>\n",
       "      <td>1.000000</td>\n",
       "      <td>0.214401</td>\n",
       "      <td>0.195784</td>\n",
       "      <td>-0.256294</td>\n",
       "      <td>0.236441</td>\n",
       "      <td>0.199950</td>\n",
       "      <td>0.055398</td>\n",
       "      <td>0.066004</td>\n",
       "      <td>0.393351</td>\n",
       "    </tr>\n",
       "    <tr>\n",
       "      <th>Total_Phenols</th>\n",
       "      <td>0.289101</td>\n",
       "      <td>-0.335167</td>\n",
       "      <td>0.128980</td>\n",
       "      <td>-0.321113</td>\n",
       "      <td>0.214401</td>\n",
       "      <td>1.000000</td>\n",
       "      <td>0.864564</td>\n",
       "      <td>-0.449935</td>\n",
       "      <td>0.612413</td>\n",
       "      <td>-0.055136</td>\n",
       "      <td>0.433681</td>\n",
       "      <td>0.699949</td>\n",
       "      <td>0.498115</td>\n",
       "    </tr>\n",
       "    <tr>\n",
       "      <th>Flavanoids</th>\n",
       "      <td>0.236815</td>\n",
       "      <td>-0.411007</td>\n",
       "      <td>0.115077</td>\n",
       "      <td>-0.351370</td>\n",
       "      <td>0.195784</td>\n",
       "      <td>0.864564</td>\n",
       "      <td>1.000000</td>\n",
       "      <td>-0.537900</td>\n",
       "      <td>0.652692</td>\n",
       "      <td>-0.172379</td>\n",
       "      <td>0.543479</td>\n",
       "      <td>0.787194</td>\n",
       "      <td>0.494193</td>\n",
       "    </tr>\n",
       "    <tr>\n",
       "      <th>Nonflavanoid_Phenols</th>\n",
       "      <td>-0.155929</td>\n",
       "      <td>0.292977</td>\n",
       "      <td>0.186230</td>\n",
       "      <td>0.361922</td>\n",
       "      <td>-0.256294</td>\n",
       "      <td>-0.449935</td>\n",
       "      <td>-0.537900</td>\n",
       "      <td>1.000000</td>\n",
       "      <td>-0.365845</td>\n",
       "      <td>0.139057</td>\n",
       "      <td>-0.262640</td>\n",
       "      <td>-0.503270</td>\n",
       "      <td>-0.311385</td>\n",
       "    </tr>\n",
       "    <tr>\n",
       "      <th>Proanthocyanins</th>\n",
       "      <td>0.136698</td>\n",
       "      <td>-0.220746</td>\n",
       "      <td>0.009652</td>\n",
       "      <td>-0.197327</td>\n",
       "      <td>0.236441</td>\n",
       "      <td>0.612413</td>\n",
       "      <td>0.652692</td>\n",
       "      <td>-0.365845</td>\n",
       "      <td>1.000000</td>\n",
       "      <td>-0.025250</td>\n",
       "      <td>0.295544</td>\n",
       "      <td>0.519067</td>\n",
       "      <td>0.330417</td>\n",
       "    </tr>\n",
       "    <tr>\n",
       "      <th>Color_Intensity</th>\n",
       "      <td>0.546364</td>\n",
       "      <td>0.248985</td>\n",
       "      <td>0.258887</td>\n",
       "      <td>0.018732</td>\n",
       "      <td>0.199950</td>\n",
       "      <td>-0.055136</td>\n",
       "      <td>-0.172379</td>\n",
       "      <td>0.139057</td>\n",
       "      <td>-0.025250</td>\n",
       "      <td>1.000000</td>\n",
       "      <td>-0.521813</td>\n",
       "      <td>-0.428815</td>\n",
       "      <td>0.316100</td>\n",
       "    </tr>\n",
       "    <tr>\n",
       "      <th>Hue</th>\n",
       "      <td>-0.071747</td>\n",
       "      <td>-0.561296</td>\n",
       "      <td>-0.074667</td>\n",
       "      <td>-0.273955</td>\n",
       "      <td>0.055398</td>\n",
       "      <td>0.433681</td>\n",
       "      <td>0.543479</td>\n",
       "      <td>-0.262640</td>\n",
       "      <td>0.295544</td>\n",
       "      <td>-0.521813</td>\n",
       "      <td>1.000000</td>\n",
       "      <td>0.565468</td>\n",
       "      <td>0.236183</td>\n",
       "    </tr>\n",
       "    <tr>\n",
       "      <th>OD280</th>\n",
       "      <td>0.072343</td>\n",
       "      <td>-0.368710</td>\n",
       "      <td>0.003911</td>\n",
       "      <td>-0.276769</td>\n",
       "      <td>0.066004</td>\n",
       "      <td>0.699949</td>\n",
       "      <td>0.787194</td>\n",
       "      <td>-0.503270</td>\n",
       "      <td>0.519067</td>\n",
       "      <td>-0.428815</td>\n",
       "      <td>0.565468</td>\n",
       "      <td>1.000000</td>\n",
       "      <td>0.312761</td>\n",
       "    </tr>\n",
       "    <tr>\n",
       "      <th>Proline</th>\n",
       "      <td>0.643720</td>\n",
       "      <td>-0.192011</td>\n",
       "      <td>0.223626</td>\n",
       "      <td>-0.440597</td>\n",
       "      <td>0.393351</td>\n",
       "      <td>0.498115</td>\n",
       "      <td>0.494193</td>\n",
       "      <td>-0.311385</td>\n",
       "      <td>0.330417</td>\n",
       "      <td>0.316100</td>\n",
       "      <td>0.236183</td>\n",
       "      <td>0.312761</td>\n",
       "      <td>1.000000</td>\n",
       "    </tr>\n",
       "  </tbody>\n",
       "</table>\n",
       "</div>"
      ],
      "text/plain": [
       "                       Alcohol  Malic_Acid       Ash  Ash_Alcanity  Magnesium  \\\n",
       "Alcohol               1.000000    0.094397  0.211545     -0.310235   0.270798   \n",
       "Malic_Acid            0.094397    1.000000  0.164045      0.288500  -0.054575   \n",
       "Ash                   0.211545    0.164045  1.000000      0.443367   0.286587   \n",
       "Ash_Alcanity         -0.310235    0.288500  0.443367      1.000000  -0.083333   \n",
       "Magnesium             0.270798   -0.054575  0.286587     -0.083333   1.000000   \n",
       "Total_Phenols         0.289101   -0.335167  0.128980     -0.321113   0.214401   \n",
       "Flavanoids            0.236815   -0.411007  0.115077     -0.351370   0.195784   \n",
       "Nonflavanoid_Phenols -0.155929    0.292977  0.186230      0.361922  -0.256294   \n",
       "Proanthocyanins       0.136698   -0.220746  0.009652     -0.197327   0.236441   \n",
       "Color_Intensity       0.546364    0.248985  0.258887      0.018732   0.199950   \n",
       "Hue                  -0.071747   -0.561296 -0.074667     -0.273955   0.055398   \n",
       "OD280                 0.072343   -0.368710  0.003911     -0.276769   0.066004   \n",
       "Proline               0.643720   -0.192011  0.223626     -0.440597   0.393351   \n",
       "\n",
       "                      Total_Phenols  Flavanoids  Nonflavanoid_Phenols  \\\n",
       "Alcohol                    0.289101    0.236815             -0.155929   \n",
       "Malic_Acid                -0.335167   -0.411007              0.292977   \n",
       "Ash                        0.128980    0.115077              0.186230   \n",
       "Ash_Alcanity              -0.321113   -0.351370              0.361922   \n",
       "Magnesium                  0.214401    0.195784             -0.256294   \n",
       "Total_Phenols              1.000000    0.864564             -0.449935   \n",
       "Flavanoids                 0.864564    1.000000             -0.537900   \n",
       "Nonflavanoid_Phenols      -0.449935   -0.537900              1.000000   \n",
       "Proanthocyanins            0.612413    0.652692             -0.365845   \n",
       "Color_Intensity           -0.055136   -0.172379              0.139057   \n",
       "Hue                        0.433681    0.543479             -0.262640   \n",
       "OD280                      0.699949    0.787194             -0.503270   \n",
       "Proline                    0.498115    0.494193             -0.311385   \n",
       "\n",
       "                      Proanthocyanins  Color_Intensity       Hue     OD280  \\\n",
       "Alcohol                      0.136698         0.546364 -0.071747  0.072343   \n",
       "Malic_Acid                  -0.220746         0.248985 -0.561296 -0.368710   \n",
       "Ash                          0.009652         0.258887 -0.074667  0.003911   \n",
       "Ash_Alcanity                -0.197327         0.018732 -0.273955 -0.276769   \n",
       "Magnesium                    0.236441         0.199950  0.055398  0.066004   \n",
       "Total_Phenols                0.612413        -0.055136  0.433681  0.699949   \n",
       "Flavanoids                   0.652692        -0.172379  0.543479  0.787194   \n",
       "Nonflavanoid_Phenols        -0.365845         0.139057 -0.262640 -0.503270   \n",
       "Proanthocyanins              1.000000        -0.025250  0.295544  0.519067   \n",
       "Color_Intensity             -0.025250         1.000000 -0.521813 -0.428815   \n",
       "Hue                          0.295544        -0.521813  1.000000  0.565468   \n",
       "OD280                        0.519067        -0.428815  0.565468  1.000000   \n",
       "Proline                      0.330417         0.316100  0.236183  0.312761   \n",
       "\n",
       "                       Proline  \n",
       "Alcohol               0.643720  \n",
       "Malic_Acid           -0.192011  \n",
       "Ash                   0.223626  \n",
       "Ash_Alcanity         -0.440597  \n",
       "Magnesium             0.393351  \n",
       "Total_Phenols         0.498115  \n",
       "Flavanoids            0.494193  \n",
       "Nonflavanoid_Phenols -0.311385  \n",
       "Proanthocyanins       0.330417  \n",
       "Color_Intensity       0.316100  \n",
       "Hue                   0.236183  \n",
       "OD280                 0.312761  \n",
       "Proline               1.000000  "
      ]
     },
     "execution_count": 5,
     "metadata": {},
     "output_type": "execute_result"
    }
   ],
   "source": [
    "df.corr()"
   ]
  },
  {
   "cell_type": "markdown",
   "id": "901161e9",
   "metadata": {
    "id": "901161e9"
   },
   "source": [
    "## 3) Methodology: \n",
    "- In  this study, I used several machine learning algorithms to predict the level of alcohol in a wine based on its other attributes. I used clustering, hierarchical clustering, regression trees, and the Random Forest algorithm to make predictions on the test set.\n",
    "Clustering is an unsupervised learning technique that is used to group similar data points into clusters. I used this algorithm to identify patterns or groupings in the data that may not be immediately apparent. And try to use these patterns to predict on the Test data.\n",
    "Hierarchical clustering is a specific type of clustering algorithm that constructs a hierarchy of clusters by successively merging or splitting sets based on their similarity. I used this algorithm to further analyze the data patterns and to better understand the relationships between the different attributes. Although I know both cluster methods won't do as well as the regression methods, I still want to see how they react to this kind of task.\n",
    "Regression trees are a supervised learning algorithm used for regression tasks, where the goal is to predict a continuous target variable based on a set of input features. I used regression trees to make predictions mainly because of their ability to subdivide data into many ranges, thus creating many leaves for the tree.\n",
    "Lastly, I used the Random Forest algorithm, which is an ensemble learning method that combines multiple decision trees to make predictions. I chose this algorithm because it is typically more accurate and robust than a single decision tree, and it can handle high-dimensional data and large numbers of features more effectively. Most importantly, it is excellent at not overfitting, as each decision tree is trained on a different subset of the data.\n",
    "After conducting all of these methods with my data, I will use three different scores to compare the algorithms' results. Even though regression and clustering algorithms cannot be ideally compared, I will still conduct the MSE, MAE, and R^2 to all the different algorithms. I will also conduct the silhouette score to both clustering methods, Kmeans and hierarchical, to see which of them is better with this data.\n",
    "\n",
    "\n",
    "\n",
    "\n"
   ]
  },
  {
   "cell_type": "markdown",
   "id": "e4307105",
   "metadata": {
    "id": "e4307105"
   },
   "source": [
    "## 4) Analysis:"
   ]
  },
  {
   "cell_type": "code",
   "execution_count": 6,
   "id": "3383a383",
   "metadata": {
    "colab": {
     "base_uri": "https://localhost:8080/",
     "height": 0
    },
    "id": "3383a383",
    "outputId": "01d5b3a1-773a-4a11-ae3e-fe862911a2ce"
   },
   "outputs": [
    {
     "name": "stdout",
     "output_type": "stream",
     "text": [
      "(178, 12) (142, 12) (36, 12)\n"
     ]
    }
   ],
   "source": [
    "# creating a two dimentional matrix\n",
    "\n",
    "# Splitting my data into training and testing sets\n",
    "\n",
    "# We are dropping the 'smoker' column because I will use it for the Y_sample and test\n",
    "X=df.drop('Alcohol',axis='columns').values\n",
    "Y= df['Alcohol'].values\n",
    "\n",
    "X_train, X_test, Y_train, Y_test = train_test_split(X, Y, test_size=0.2, random_state=2)\n",
    "print(X.shape, X_train.shape, X_test.shape)\n"
   ]
  },
  {
   "cell_type": "markdown",
   "id": "RmkmNZEKCIHC",
   "metadata": {
    "id": "RmkmNZEKCIHC"
   },
   "source": [
    "**Perform the Elbow Method to find optimal number of Clusters (We are going to do it with 2 different visualizations)**"
   ]
  },
  {
   "cell_type": "code",
   "execution_count": 7,
   "id": "yxzYVrgpB-8r",
   "metadata": {
    "colab": {
     "base_uri": "https://localhost:8080/",
     "height": 459
    },
    "id": "yxzYVrgpB-8r",
    "outputId": "44511c34-5eb3-4def-def8-3b92d0c49e82"
   },
   "outputs": [
    {
     "name": "stdout",
     "output_type": "stream",
     "text": [
      "Visualization #1 of Elbow Method\n"
     ]
    },
    {
     "name": "stderr",
     "output_type": "stream",
     "text": [
      "/Users/mosherosenstock/opt/anaconda3/lib/python3.9/site-packages/sklearn/cluster/_kmeans.py:870: FutureWarning:\n",
      "\n",
      "The default value of `n_init` will change from 10 to 'auto' in 1.4. Set the value of `n_init` explicitly to suppress the warning\n",
      "\n",
      "/Users/mosherosenstock/opt/anaconda3/lib/python3.9/site-packages/sklearn/cluster/_kmeans.py:870: FutureWarning:\n",
      "\n",
      "The default value of `n_init` will change from 10 to 'auto' in 1.4. Set the value of `n_init` explicitly to suppress the warning\n",
      "\n",
      "/Users/mosherosenstock/opt/anaconda3/lib/python3.9/site-packages/sklearn/cluster/_kmeans.py:870: FutureWarning:\n",
      "\n",
      "The default value of `n_init` will change from 10 to 'auto' in 1.4. Set the value of `n_init` explicitly to suppress the warning\n",
      "\n",
      "/Users/mosherosenstock/opt/anaconda3/lib/python3.9/site-packages/sklearn/cluster/_kmeans.py:870: FutureWarning:\n",
      "\n",
      "The default value of `n_init` will change from 10 to 'auto' in 1.4. Set the value of `n_init` explicitly to suppress the warning\n",
      "\n",
      "/Users/mosherosenstock/opt/anaconda3/lib/python3.9/site-packages/sklearn/cluster/_kmeans.py:870: FutureWarning:\n",
      "\n",
      "The default value of `n_init` will change from 10 to 'auto' in 1.4. Set the value of `n_init` explicitly to suppress the warning\n",
      "\n",
      "/Users/mosherosenstock/opt/anaconda3/lib/python3.9/site-packages/sklearn/cluster/_kmeans.py:870: FutureWarning:\n",
      "\n",
      "The default value of `n_init` will change from 10 to 'auto' in 1.4. Set the value of `n_init` explicitly to suppress the warning\n",
      "\n"
     ]
    },
    {
     "name": "stderr",
     "output_type": "stream",
     "text": [
      "/Users/mosherosenstock/opt/anaconda3/lib/python3.9/site-packages/sklearn/cluster/_kmeans.py:870: FutureWarning:\n",
      "\n",
      "The default value of `n_init` will change from 10 to 'auto' in 1.4. Set the value of `n_init` explicitly to suppress the warning\n",
      "\n",
      "/Users/mosherosenstock/opt/anaconda3/lib/python3.9/site-packages/sklearn/cluster/_kmeans.py:870: FutureWarning:\n",
      "\n",
      "The default value of `n_init` will change from 10 to 'auto' in 1.4. Set the value of `n_init` explicitly to suppress the warning\n",
      "\n",
      "/Users/mosherosenstock/opt/anaconda3/lib/python3.9/site-packages/sklearn/cluster/_kmeans.py:870: FutureWarning:\n",
      "\n",
      "The default value of `n_init` will change from 10 to 'auto' in 1.4. Set the value of `n_init` explicitly to suppress the warning\n",
      "\n",
      "/Users/mosherosenstock/opt/anaconda3/lib/python3.9/site-packages/sklearn/cluster/_kmeans.py:870: FutureWarning:\n",
      "\n",
      "The default value of `n_init` will change from 10 to 'auto' in 1.4. Set the value of `n_init` explicitly to suppress the warning\n",
      "\n"
     ]
    },
    {
     "data": {
      "image/png": "[encoded data removed]",
      "text/plain": [
       "<Figure size 504x504 with 1 Axes>"
      ]
     },
     "metadata": {
      "filenames": {
       "image/png": "/Users/mosherosenstock/Desktop/mosherosenstock.github.io/_build/jupyter_execute/docs/Final_Project_DS_121_13_3.png"
      },
      "needs_background": "light"
     },
     "output_type": "display_data"
    }
   ],
   "source": [
    "\n",
    "print(\"Visualization #1 of Elbow Method\")\n",
    "WCSS = []\n",
    "for i in range(1,11):\n",
    "    model = KMeans(n_clusters = i,init = 'k-means++')\n",
    "    model.fit(X_train)\n",
    "    WCSS.append(model.inertia_)\n",
    "fig = plt.figure(figsize = (7,7))\n",
    "plt.plot(range(1,11),WCSS, linewidth=4, markersize=12,marker='o',color = 'b')\n",
    "plt.xticks(np.arange(11))\n",
    "plt.xlabel(\"Number of clusters\")\n",
    "plt.ylabel(\"WCSS\")\n",
    "plt.show()"
   ]
  },
  {
   "cell_type": "code",
   "execution_count": 8,
   "id": "VATwlMzplP9u",
   "metadata": {
    "colab": {
     "base_uri": "https://localhost:8080/",
     "height": 0
    },
    "id": "VATwlMzplP9u",
    "outputId": "0457da42-471b-440e-d114-cf2dd3d53c04"
   },
   "outputs": [
    {
     "name": "stderr",
     "output_type": "stream",
     "text": [
      "/Users/mosherosenstock/opt/anaconda3/lib/python3.9/site-packages/sklearn/cluster/_kmeans.py:870: FutureWarning:\n",
      "\n",
      "The default value of `n_init` will change from 10 to 'auto' in 1.4. Set the value of `n_init` explicitly to suppress the warning\n",
      "\n"
     ]
    },
    {
     "data": {
      "text/html": [
       "<style>#sk-container-id-1 {color: black;background-color: white;}#sk-container-id-1 pre{padding: 0;}#sk-container-id-1 div.sk-toggleable {background-color: white;}#sk-container-id-1 label.sk-toggleable__label {cursor: pointer;display: block;width: 100%;margin-bottom: 0;padding: 0.3em;box-sizing: border-box;text-align: center;}#sk-container-id-1 label.sk-toggleable__label-arrow:before {content: \"▸\";float: left;margin-right: 0.25em;color: #696969;}#sk-container-id-1 label.sk-toggleable__label-arrow:hover:before {color: black;}#sk-container-id-1 div.sk-estimator:hover label.sk-toggleable__label-arrow:before {color: black;}#sk-container-id-1 div.sk-toggleable__content {max-height: 0;max-width: 0;overflow: hidden;text-align: left;background-color: #f0f8ff;}#sk-container-id-1 div.sk-toggleable__content pre {margin: 0.2em;color: black;border-radius: 0.25em;background-color: #f0f8ff;}#sk-container-id-1 input.sk-toggleable__control:checked~div.sk-toggleable__content {max-height: 200px;max-width: 100%;overflow: auto;}#sk-container-id-1 input.sk-toggleable__control:checked~label.sk-toggleable__label-arrow:before {content: \"▾\";}#sk-container-id-1 div.sk-estimator input.sk-toggleable__control:checked~label.sk-toggleable__label {background-color: #d4ebff;}#sk-container-id-1 div.sk-label input.sk-toggleable__control:checked~label.sk-toggleable__label {background-color: #d4ebff;}#sk-container-id-1 input.sk-hidden--visually {border: 0;clip: rect(1px 1px 1px 1px);clip: rect(1px, 1px, 1px, 1px);height: 1px;margin: -1px;overflow: hidden;padding: 0;position: absolute;width: 1px;}#sk-container-id-1 div.sk-estimator {font-family: monospace;background-color: #f0f8ff;border: 1px dotted black;border-radius: 0.25em;box-sizing: border-box;margin-bottom: 0.5em;}#sk-container-id-1 div.sk-estimator:hover {background-color: #d4ebff;}#sk-container-id-1 div.sk-parallel-item::after {content: \"\";width: 100%;border-bottom: 1px solid gray;flex-grow: 1;}#sk-container-id-1 div.sk-label:hover label.sk-toggleable__label {background-color: #d4ebff;}#sk-container-id-1 div.sk-serial::before {content: \"\";position: absolute;border-left: 1px solid gray;box-sizing: border-box;top: 0;bottom: 0;left: 50%;z-index: 0;}#sk-container-id-1 div.sk-serial {display: flex;flex-direction: column;align-items: center;background-color: white;padding-right: 0.2em;padding-left: 0.2em;position: relative;}#sk-container-id-1 div.sk-item {position: relative;z-index: 1;}#sk-container-id-1 div.sk-parallel {display: flex;align-items: stretch;justify-content: center;background-color: white;position: relative;}#sk-container-id-1 div.sk-item::before, #sk-container-id-1 div.sk-parallel-item::before {content: \"\";position: absolute;border-left: 1px solid gray;box-sizing: border-box;top: 0;bottom: 0;left: 50%;z-index: -1;}#sk-container-id-1 div.sk-parallel-item {display: flex;flex-direction: column;z-index: 1;position: relative;background-color: white;}#sk-container-id-1 div.sk-parallel-item:first-child::after {align-self: flex-end;width: 50%;}#sk-container-id-1 div.sk-parallel-item:last-child::after {align-self: flex-start;width: 50%;}#sk-container-id-1 div.sk-parallel-item:only-child::after {width: 0;}#sk-container-id-1 div.sk-dashed-wrapped {border: 1px dashed gray;margin: 0 0.4em 0.5em 0.4em;box-sizing: border-box;padding-bottom: 0.4em;background-color: white;}#sk-container-id-1 div.sk-label label {font-family: monospace;font-weight: bold;display: inline-block;line-height: 1.2em;}#sk-container-id-1 div.sk-label-container {text-align: center;}#sk-container-id-1 div.sk-container {/* jupyter's `normalize.less` sets `[hidden] { display: none; }` but bootstrap.min.css set `[hidden] { display: none !important; }` so we also need the `!important` here to be able to override the default hidden behavior on the sphinx rendered scikit-learn.org. See: https://github.com/scikit-learn/scikit-learn/issues/21755 */display: inline-block !important;position: relative;}#sk-container-id-1 div.sk-text-repr-fallback {display: none;}</style><div id=\"sk-container-id-1\" class=\"sk-top-container\"><div class=\"sk-text-repr-fallback\"><pre>KMeans(n_clusters=2)</pre><b>In a Jupyter environment, please rerun this cell to show the HTML representation or trust the notebook. <br />On GitHub, the HTML representation is unable to render, please try loading this page with nbviewer.org.</b></div><div class=\"sk-container\" hidden><div class=\"sk-item\"><div class=\"sk-estimator sk-toggleable\"><input class=\"sk-toggleable__control sk-hidden--visually\" id=\"sk-estimator-id-1\" type=\"checkbox\" checked><label for=\"sk-estimator-id-1\" class=\"sk-toggleable__label sk-toggleable__label-arrow\">KMeans</label><div class=\"sk-toggleable__content\"><pre>KMeans(n_clusters=2)</pre></div></div></div></div></div>"
      ],
      "text/plain": [
       "KMeans(n_clusters=2)"
      ]
     },
     "execution_count": 8,
     "metadata": {},
     "output_type": "execute_result"
    }
   ],
   "source": [
    "# create a KMeans model with 2 clusters. The reason Why I used two clusters, is because 2 gave me a better \n",
    "# result using the mse,mae, and r^2 compared to using three clusters.\n",
    "kmeans = KMeans(n_clusters=2)\n",
    "\n",
    "kmeans.fit(X_train, Y_train)"
   ]
  },
  {
   "cell_type": "code",
   "execution_count": 9,
   "id": "6-SWY26a0PAc",
   "metadata": {
    "colab": {
     "base_uri": "https://localhost:8080/",
     "height": 0
    },
    "id": "6-SWY26a0PAc",
    "outputId": "08954af8-dcb8-46c3-e212-a4ec0e7772fd"
   },
   "outputs": [
    {
     "name": "stdout",
     "output_type": "stream",
     "text": [
      "- The silhouette score is  0.3430891022275936\n",
      "- The R^2 is =  -6.745285945722675\n",
      "- The mean absolute error is 0.5847222222222223\n",
      "- The Mean Square Error = 0.38966355032317634\n"
     ]
    }
   ],
   "source": [
    "# Here I will messure the score of the clustering algorithm I just did\n",
    "\n",
    "\n",
    "p = kmeans.predict(X_test)\n",
    "\n",
    "sil = silhouette_score(X_test, p)\n",
    "mse1 = mean_squared_error(Y_test, p)\n",
    "mae1 = mean_absolute_error(Y_test, p)\n",
    "r1 = r2_score(Y_test, p)\n",
    "\n",
    "print('- The silhouette score is ', sil )\n",
    "print('- The R^2 is = ', r1)\n",
    "print('- The mean absolute error is', mae1)\n",
    "print('- The Mean Square Error =', mse1)"
   ]
  },
  {
   "cell_type": "markdown",
   "id": "4tGCeIndAr6N",
   "metadata": {
    "id": "4tGCeIndAr6N"
   },
   "source": [
    "#### Hierarchial Clustering- (Different clustering algorithm)"
   ]
  },
  {
   "cell_type": "code",
   "execution_count": 10,
   "id": "IzP0KgdH2iXR",
   "metadata": {
    "colab": {
     "base_uri": "https://localhost:8080/",
     "height": 0
    },
    "id": "IzP0KgdH2iXR",
    "outputId": "98ad89ed-93a8-4a2e-ff46-5563882d0c37"
   },
   "outputs": [
    {
     "name": "stdout",
     "output_type": "stream",
     "text": [
      "- The silhouette score is = 0.3430891022275936\n",
      "- The R^2 =  -6.036228539904719\n",
      "- The mean absolute error is = 0.5490497076023392\n",
      "- The Mean Square Error = 0.3539910357032934\n"
     ]
    }
   ],
   "source": [
    "\n",
    "# create a hierarchical clustering model with 2 clusters\n",
    "#  (The reason why I used 2 cluster, instead of 3, is because when I use 3 in this type of clustering, \n",
    "# I end up with a higher level of error.)\n",
    "hc = AgglomerativeClustering(n_clusters=2)\n",
    "\n",
    "\n",
    "hc.fit(X_train, Y_train)\n",
    "\n",
    "p2 = hc.fit_predict(X_test)\n",
    "\n",
    "sil2 = silhouette_score(X_test, p)\n",
    "mse2 = mean_squared_error(Y_test, p2)\n",
    "mae2 = mean_absolute_error(Y_test, p2)\n",
    "r2 = r2_score(Y_test, p2)\n",
    "\n",
    "\n",
    "print('- The silhouette score is =', sil2 )\n",
    "print('- The R^2 = ', r2)\n",
    "print('- The mean absolute error is =', mae2)\n",
    "print('- The Mean Square Error =',mse2)"
   ]
  },
  {
   "cell_type": "markdown",
   "id": "DZXYRpKccYh_",
   "metadata": {
    "id": "DZXYRpKccYh_"
   },
   "source": [
    "## Regression Trees"
   ]
  },
  {
   "cell_type": "code",
   "execution_count": 11,
   "id": "4ctSUjrpTW6H",
   "metadata": {
    "colab": {
     "base_uri": "https://localhost:8080/",
     "height": 0
    },
    "id": "4ctSUjrpTW6H",
    "outputId": "7557f0f5-2228-4147-8b56-e7eb54c6644c"
   },
   "outputs": [
    {
     "name": "stdout",
     "output_type": "stream",
     "text": [
      "- The R^2 = 0.32858641514989095\n",
      "- The mean absolute error is = 0.1487573099415204\n",
      "- The mean squared error is = 0.033778662665435485\n"
     ]
    }
   ],
   "source": [
    "\n",
    "dt = DecisionTreeRegressor()\n",
    "\n",
    "\n",
    "dt.fit(X_train, Y_train)\n",
    "\n",
    "# making the predictions on the test\n",
    "p3 = dt.predict(X_test)\n",
    "\n",
    "mse3 = mean_squared_error(Y_test, p3)\n",
    "mae3 = mean_absolute_error(Y_test, p3)\n",
    "r3 = r2_score(Y_test, p3)\n",
    "\n",
    "print('- The R^2 =', r3)\n",
    "print('- The mean absolute error is =', mae3)\n",
    "print('- The mean squared error is =' , mse3)"
   ]
  },
  {
   "cell_type": "markdown",
   "id": "rtHkuYxad8Cr",
   "metadata": {
    "id": "rtHkuYxad8Cr"
   },
   "source": [
    "## Random Forest"
   ]
  },
  {
   "cell_type": "code",
   "execution_count": 12,
   "id": "HLq0h1XLTen_",
   "metadata": {
    "colab": {
     "base_uri": "https://localhost:8080/",
     "height": 0
    },
    "id": "HLq0h1XLTen_",
    "outputId": "50150be5-bb50-4285-f5e7-508faeee2d77"
   },
   "outputs": [
    {
     "name": "stdout",
     "output_type": "stream",
     "text": [
      "- The R^2  =  0.6891335827131146\n",
      "- The mean absolute error  = 0.10107675438596485\n",
      "- The mean squared error  = 0.015639617786241906\n"
     ]
    }
   ],
   "source": [
    "\n",
    "p1 = RandomForestRegressor()\n",
    "p1.fit(X_train, Y_train)\n",
    "predictions = p1.predict(X_test)\n",
    "\n",
    "mse4 = mean_squared_error(Y_test, predictions)\n",
    "r4 = r2_score(Y_test, predictions)\n",
    "mae4 = mean_absolute_error(Y_test, predictions)\n",
    "\n",
    "\n",
    "print('- The R^2  = ', r4)\n",
    "print('- The mean absolute error  =', mae4)\n",
    "print('- The mean squared error  =', mse4)"
   ]
  },
  {
   "cell_type": "markdown",
   "id": "3j9FmX-Yhzv0",
   "metadata": {
    "id": "3j9FmX-Yhzv0"
   },
   "source": [
    "**Plotting the R-Squared**"
   ]
  },
  {
   "cell_type": "code",
   "execution_count": 13,
   "id": "S2InWbDTh6gW",
   "metadata": {
    "colab": {
     "base_uri": "https://localhost:8080/",
     "height": 281
    },
    "id": "S2InWbDTh6gW",
    "outputId": "195a1610-52e2-4aa4-911d-924121f814c6"
   },
   "outputs": [
    {
     "data": {
      "image/png": "[encoded data removed]",
      "text/plain": [
       "<Figure size 432x288 with 1 Axes>"
      ]
     },
     "metadata": {
      "filenames": {
       "image/png": "/Users/mosherosenstock/Desktop/mosherosenstock.github.io/_build/jupyter_execute/docs/Final_Project_DS_121_23_0.png"
      },
      "needs_background": "light"
     },
     "output_type": "display_data"
    }
   ],
   "source": [
    "import matplotlib.pyplot as plt\n",
    "\n",
    "r = [r1, r2,r3,r4]\n",
    "names = ['Clustering', 'Hierarchical Clustering',  'Regression Tree', 'Random Forest']\n",
    "# create the bar plot\n",
    "plt.bar(range(len(r)), r)\n",
    "plt.ylabel('Value')\n",
    "plt.title('R-Squared')\n",
    "plt.xticks(range(len(r)), names)\n",
    "plt.show()"
   ]
  },
  {
   "cell_type": "markdown",
   "id": "HbjnTb5iU6qi",
   "metadata": {
    "id": "HbjnTb5iU6qi"
   },
   "source": [
    "**Mean Absolute Error**"
   ]
  },
  {
   "cell_type": "code",
   "execution_count": 14,
   "id": "3eFXV86POCNF",
   "metadata": {
    "colab": {
     "base_uri": "https://localhost:8080/",
     "height": 362
    },
    "id": "3eFXV86POCNF",
    "outputId": "873c0e98-57fa-44be-98f5-a01fdc7b2b19"
   },
   "outputs": [
    {
     "data": {
      "image/png": "[encoded data removed]",
      "text/plain": [
       "<Figure size 432x288 with 1 Axes>"
      ]
     },
     "metadata": {
      "filenames": {
       "image/png": "/Users/mosherosenstock/Desktop/mosherosenstock.github.io/_build/jupyter_execute/docs/Final_Project_DS_121_25_0.png"
      },
      "needs_background": "light"
     },
     "output_type": "display_data"
    }
   ],
   "source": [
    "m = [mae1, mae2,mae3,mae4]\n",
    "names = ['Clustering', 'Hierarchical Clustering',  'Regression Tree', 'Random Forest']\n",
    "plt.bar(range(len(m)), m)\n",
    "plt.ylabel('Values')\n",
    "plt.title('Mean Absolute Error')\n",
    "plt.xticks(range(len(m)), names)\n",
    "plt.show()\n"
   ]
  },
  {
   "cell_type": "markdown",
   "id": "ua19MJyfV8yg",
   "metadata": {
    "id": "ua19MJyfV8yg"
   },
   "source": [
    "**Mean Square Error**"
   ]
  },
  {
   "cell_type": "code",
   "execution_count": 15,
   "id": "TL7pmfpxOqe_",
   "metadata": {
    "colab": {
     "base_uri": "https://localhost:8080/",
     "height": 362
    },
    "id": "TL7pmfpxOqe_",
    "outputId": "509b3e76-79bb-488e-df7f-0af020066371"
   },
   "outputs": [
    {
     "data": {
      "image/png": "[encoded data removed]",
      "text/plain": [
       "<Figure size 432x288 with 1 Axes>"
      ]
     },
     "metadata": {
      "filenames": {
       "image/png": "/Users/mosherosenstock/Desktop/mosherosenstock.github.io/_build/jupyter_execute/docs/Final_Project_DS_121_27_0.png"
      },
      "needs_background": "light"
     },
     "output_type": "display_data"
    }
   ],
   "source": [
    "m = [mse1, mse2,mse3,mse4]\n",
    "names = ['Clustering', 'Hierarchical Clustering',  'Regression Tree', 'Random Forest']\n",
    "plt.bar(range(len(m)), m)\n",
    "\n",
    "plt.ylabel('Values')\n",
    "plt.title('Mean Square Error')\n",
    "plt.xticks(range(len(m)), names)\n",
    "plt.show()"
   ]
  },
  {
   "cell_type": "markdown",
   "id": "c1527ba8",
   "metadata": {
    "id": "c1527ba8"
   },
   "source": [
    "## 5) Results: \n",
    "\n",
    "After evaluating and working with different algorithms, I was able to find the best method to predict the level of alcohol in wines by considering its other chemical components. Although all of the algorithms can indicate in some way or another the alcohol level, it is worth mentioning that non of these methods will have a perfect result at predicting the desired variable. To get the precise measurement of each respective wine, a hydrometer or other scientific methods should be used.\n",
    "Putting that information aside, the algorithms can give us a good approximation of the alcohol level.\n",
    "\n",
    "- **Clustering:** Altough there are more practicals ways to measure and predict the alcohol level, I used two different algorithms to see what the results would be. I conducted two different clustering algorithms: K-means and Hierarchial clusterin. One of the differences between both of these algorithms is that K-means uses clusters, while hierarchical doesn't. As long as the distances between points and cluster centers are similar for both algorithms, they may have the same silhouette coefficient even if the clusters themselves are different. Although these clustering algorithms are somewhat different, they both got the same silhouette score, 0.343.\n",
    "\n",
    "- **Regression:** The best way to predict a continuous target variable based on a set of input features is by using a regression algorithm. Therefore, I used two of the most potent regression algorithms: Regression Tree and Random Forest. Although both of these methods achieved a very good R-squared value, Mean Square Error, and Mean Absolute Error, the Random Forest algorithm ended up being the most efficient one. It got an MSE of .016, an MAE of .01, and an R^2 of .68, and when compared to the other used algorithms, these are very good numbers. One reason why random forests are better than a single regression tree is that they can reduce overfitting. Overfitting occurs when a model has learned the details of the training data too well and cannot generalize well to new data. Decision trees are prone to overfitting because they can keep splitting the data into smaller and smaller subgroups, and this can lead to a model that is highly complex and not able to generalize well. Random forests, on the other hand, can prevent overfitting by aggregating the predictions of multiple decision trees; which provides a more robust model that can generalize better to new data."
   ]
  },
  {
   "cell_type": "markdown",
   "id": "9c9bafee",
   "metadata": {
    "id": "9c9bafee"
   },
   "source": [
    "## 6) Conclusion:  \n",
    "To conclude, I divided my data into training and testing sets to prevent the overfitting of the models. Then, I used the training set to evaluate the performance of different algorithms in predicting the alcohol level of wines based on other attributes. After running each algorithm, I used various metrics to assess their performance. The results showed that the Random Forest algorithm was the most accurate, outperforming the other algorithms in the metric scores.\n",
    "The ability to predict the alcohol level of a drink using other factors is valuable for several reasons. For example, it can help wine producers save time and money by reducing the need for hydrometer tests. It can also provide insights into the factors that influence the alcohol level of wines, allowing producers to optimize their production processes to achieve the desired alcohol level. Additionally, it can assist consumers in making informed decisions about the alcohol content of the wines they purchase. We can conclude that by using machine learning algorithms to predict the alcohol level of wines is a practical and valuable tool."
   ]
  },
  {
   "attachments": {},
   "cell_type": "markdown",
   "id": "ac38813d",
   "metadata": {
    "id": "ac38813d"
   },
   "source": [
    "## 7) References:  \n",
    "\n",
    "\n",
    "1. [Analizing the Results of Kmeans, Openclassrooms](https://openclassrooms.com/en/courses/5869986-perform-an-exploratory-data-analysis/6177861-analyze-the-results-of-a-k-means-clustering)\n",
    "\n",
    "2. [Kaggle, Creator: Narendia. Used as a base to clean the data.](https://www.kaggle.com/code/naren3256/kmeans-clustering-and-cluster-visualization-in-3d/notebook )\n",
    "\n",
    "4. [Guide on Kmeans Clustering](https://realpython.com/k-means-clustering-python/)  \n",
    "\n",
    "5. [Plotly Algorithms to visualize data](https://plotly.com/python/v3/ipython-notebooks/baltimore-vital-signs/)  \n",
    "\n",
    "6. [Plotly Algorithms to visualize data](https://plotly.com/python/ml-regression/)\n",
    "\n",
    "7. [Mean Square Error, By: Jim Frost](https://statisticsbyjim.com/regression/mean-squared-error-mse/)\n",
    "\n",
    "8. [How to calculate R squared, By Safa Mulani](https://www.digitalocean.com/community/tutorials/r-squared-in-r-programming)\n",
    "\n",
    "9. [Imported from SK-Learn, AgglomerativeClustering](https://scikit-learn.org/stable/modules/generated/sklearn.cluster.AgglomerativeClustering.html)\n",
    "\n",
    "10. [Imported from SK-Learn, Mean Absolute Error](https://scikit-learn.org/stable/modules/generated/sklearn.metrics.mean_absolute_error.html)\n",
    "\n",
    "11. [O’Reilly, Matplotlib Plots](oreilly.com/library/view/python-data-science/9781491912126/ch04.html)\n",
    "\n",
    "12. [K-Means Clustering Algorithm, Towards Data Science](https://towardsdatascience.com/understanding-k-means-clustering-in-machine-learning-6a6e67336aa1)\n",
    "\n",
    "\n",
    "13. [Kaggle Dataset](https://www.kaggle.com/datasets/harrywang/wine-dataset-for-clustering)\n",
    "\n",
    "14. BU CDS DS 210 Lectures/Homeworks   \n",
    "\n",
    "15. BU CDS DS 121 Lectures/Homeworks\n"
   ]
  }
 ],
 "metadata": {
  "colab": {
   "provenance": []
  },
  "kernelspec": {
   "display_name": "base",
   "language": "python",
   "name": "python3"
  },
  "language_info": {
   "codemirror_mode": {
    "name": "ipython",
    "version": 3
   },
   "file_extension": ".py",
   "mimetype": "text/x-python",
   "name": "python",
   "nbconvert_exporter": "python",
   "pygments_lexer": "ipython3",
   "version": "3.9.12"
  },
  "vscode": {
   "interpreter": {
    "hash": "3750e7da34365a195ab956cee48637d4914a35a3777897618d04f2e56a2a9155"
   }
  }
 },
 "nbformat": 4,
 "nbformat_minor": 5
}